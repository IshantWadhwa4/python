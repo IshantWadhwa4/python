{
  "nbformat": 4,
  "nbformat_minor": 0,
  "metadata": {
    "colab": {
      "name": "python-basic-exercise-part-1.ipynb",
      "provenance": [],
      "collapsed_sections": [],
      "include_colab_link": true
    },
    "kernelspec": {
      "name": "python3",
      "display_name": "Python 3"
    },
    "accelerator": "GPU"
  },
  "cells": [
    {
      "cell_type": "markdown",
      "metadata": {
        "id": "view-in-github",
        "colab_type": "text"
      },
      "source": [
        "<a href=\"https://colab.research.google.com/github/IshantWadhwa4/python/blob/master/python_basic_exercise_part_1.ipynb\" target=\"_parent\"><img src=\"https://colab.research.google.com/assets/colab-badge.svg\" alt=\"Open In Colab\"/></a>"
      ]
    },
    {
      "cell_type": "markdown",
      "metadata": {
        "id": "LTwekemdM3wa",
        "colab_type": "text"
      },
      "source": [
        "Basic python Exercise from \n",
        "https://www.w3resource.com/python-exercises/python-basic-exercises.php"
      ]
    },
    {
      "cell_type": "code",
      "metadata": {
        "id": "amD9xoK0NFMu",
        "colab_type": "code",
        "outputId": "895c26e3-7825-45b0-890e-19c3897ced5d",
        "colab": {
          "base_uri": "https://localhost:8080/",
          "height": 121
        }
      },
      "source": [
        "print(\"Twinkle, twinkle, little star, \\n \\tHow I wonder what you are! \\n \\t \\tUp above the world so high, \\n \\t \\tLike a diamond in the sky. \\n Twinkle, twinkle, little star, \\n \\tHow I wonder what you are\")"
      ],
      "execution_count": 0,
      "outputs": [
        {
          "output_type": "stream",
          "text": [
            "Twinkle, twinkle, little star, \n",
            " \tHow I wonder what you are! \n",
            " \t \tUp above the world so high, \n",
            " \t \tLike a diamond in the sky. \n",
            " Twinkle, twinkle, little star, \n",
            " \tHow I wonder what you are\n"
          ],
          "name": "stdout"
        }
      ]
    },
    {
      "cell_type": "code",
      "metadata": {
        "id": "i_ifMTXtOvv7",
        "colab_type": "code",
        "outputId": "a98b63fc-036b-4d46-c576-3dec5f825aa8",
        "colab": {
          "base_uri": "https://localhost:8080/",
          "height": 35
        }
      },
      "source": [
        "!python3 --version"
      ],
      "execution_count": 0,
      "outputs": [
        {
          "output_type": "stream",
          "text": [
            "Python 3.6.8\n"
          ],
          "name": "stdout"
        }
      ]
    },
    {
      "cell_type": "code",
      "metadata": {
        "id": "XQNhALY0PuxZ",
        "colab_type": "code",
        "outputId": "f524ebed-9a52-44f8-8de9-83384cd18b3e",
        "colab": {
          "base_uri": "https://localhost:8080/",
          "height": 35
        }
      },
      "source": [
        "import datetime\n",
        "print(datetime.datetime.now())"
      ],
      "execution_count": 0,
      "outputs": [
        {
          "output_type": "stream",
          "text": [
            "2019-11-26 05:52:27.681602\n"
          ],
          "name": "stdout"
        }
      ]
    },
    {
      "cell_type": "code",
      "metadata": {
        "id": "Kpub1aUDQlma",
        "colab_type": "code",
        "outputId": "18fffb63-ff17-46c1-a6a5-741791730d57",
        "colab": {
          "base_uri": "https://localhost:8080/",
          "height": 52
        }
      },
      "source": [
        "import math\n",
        "pie = math.pi\n",
        "radius = int(input(\"r = \"))\n",
        "print(\"Area = \" + str(pie*radius*radius))\n"
      ],
      "execution_count": 0,
      "outputs": [
        {
          "output_type": "stream",
          "text": [
            "r = 7\n",
            "Area = 153.93804002589985\n"
          ],
          "name": "stdout"
        }
      ]
    },
    {
      "cell_type": "code",
      "metadata": {
        "id": "1mCFqEfVRxHT",
        "colab_type": "code",
        "outputId": "1c9e7228-f7c2-4208-8907-6b44336c11b1",
        "colab": {
          "base_uri": "https://localhost:8080/",
          "height": 69
        }
      },
      "source": [
        "first_name = str(input(\"Please enter your first name : \"))\n",
        "last_name = str(input(\"Please enter your last name : \"))\n",
        "print(first_name[::-1] + \" \" + last_name[::-1])"
      ],
      "execution_count": 0,
      "outputs": [
        {
          "output_type": "stream",
          "text": [
            "Please enter your first name : Ishant\n",
            "Please enter your last name : wadhwa\n",
            "tnahsI awhdaw\n"
          ],
          "name": "stdout"
        }
      ]
    },
    {
      "cell_type": "code",
      "metadata": {
        "id": "Sx1H7r-zS3PE",
        "colab_type": "code",
        "outputId": "c079e1f4-f937-4c8b-be22-b2ea76cba076",
        "colab": {
          "base_uri": "https://localhost:8080/",
          "height": 69
        }
      },
      "source": [
        "data = str(input(\"Please Enter comma-separated numbers :\"))\n",
        "l = data.split(',')\n",
        "t = tuple(l)\n",
        "print(\"List is :\" ,l)\n",
        "print(\"Tuple is :\" ,t)"
      ],
      "execution_count": 0,
      "outputs": [
        {
          "output_type": "stream",
          "text": [
            "Please Enter comma-separated numbers :1,2,3,4\n",
            "List is : ['1', '2', '3', '4']\n",
            "Tuple is : ('1', '2', '3', '4')\n"
          ],
          "name": "stdout"
        }
      ]
    },
    {
      "cell_type": "code",
      "metadata": {
        "id": "B1Enx4OOUNZe",
        "colab_type": "code",
        "outputId": "27bc61db-a695-4410-e1a1-b9b0dcc0e38b",
        "colab": {
          "base_uri": "https://localhost:8080/",
          "height": 52
        }
      },
      "source": [
        "fileName = input(\"Please enter your file name : \")\n",
        "print(fileName.split('.')[1])"
      ],
      "execution_count": 0,
      "outputs": [
        {
          "output_type": "stream",
          "text": [
            "Please enter your file name : ss.java\n",
            "java\n"
          ],
          "name": "stdout"
        }
      ]
    },
    {
      "cell_type": "code",
      "metadata": {
        "id": "65tFc_PoU74q",
        "colab_type": "code",
        "outputId": "4152029b-5b45-4a3e-a0e4-8047cdf43a69",
        "colab": {
          "base_uri": "https://localhost:8080/",
          "height": 52
        }
      },
      "source": [
        "color_list = [\"Red\",\"Green\",\"White\" ,\"Black\"]\n",
        "print(\"First Element : \" + color_list[0])\n",
        "print(\"Last Element : \" + color_list[-1])"
      ],
      "execution_count": 0,
      "outputs": [
        {
          "output_type": "stream",
          "text": [
            "First Element : Red\n",
            "Last Element : Black\n"
          ],
          "name": "stdout"
        }
      ]
    },
    {
      "cell_type": "code",
      "metadata": {
        "id": "4TiZhsG5VVBO",
        "colab_type": "code",
        "outputId": "f3d05c19-4998-4665-9bce-265fe08565bd",
        "colab": {
          "base_uri": "https://localhost:8080/",
          "height": 35
        }
      },
      "source": [
        "exam_st_date = (11, 12, 2014)\n",
        "print(\"Exam will be start from {0}/{1}/{2}\".format(exam_st_date[0],exam_st_date[1],exam_st_date[2]))"
      ],
      "execution_count": 0,
      "outputs": [
        {
          "output_type": "stream",
          "text": [
            "Exam will be start from 11/12/2014\n"
          ],
          "name": "stdout"
        }
      ]
    },
    {
      "cell_type": "code",
      "metadata": {
        "id": "M67O2z7IV-UC",
        "colab_type": "code",
        "outputId": "5a0c78e0-d819-4d1a-da0a-c49744766f43",
        "colab": {
          "base_uri": "https://localhost:8080/",
          "height": 52
        }
      },
      "source": [
        "number = str(input(\"Enter a number : \"))\n",
        "o = int(number + number + number)\n",
        "t = int(number + number)\n",
        "print(int(number) + o + t)"
      ],
      "execution_count": 0,
      "outputs": [
        {
          "output_type": "stream",
          "text": [
            "Enter a number : 5\n",
            "615\n"
          ],
          "name": "stdout"
        }
      ]
    },
    {
      "cell_type": "code",
      "metadata": {
        "id": "K2GMfr7xf6uc",
        "colab_type": "code",
        "outputId": "6f08307e-9869-4aef-f5da-ee7562564d8a",
        "colab": {
          "base_uri": "https://localhost:8080/",
          "height": 87
        }
      },
      "source": [
        "help(abs.__doc__) # print the documents (syntax, description etc.)"
      ],
      "execution_count": 0,
      "outputs": [
        {
          "output_type": "stream",
          "text": [
            "No Python documentation found for 'Return the absolute value of the argument.'.\n",
            "Use help() to get the interactive help utility.\n",
            "Use help(str) for help on the str class.\n",
            "\n"
          ],
          "name": "stdout"
        }
      ]
    },
    {
      "cell_type": "code",
      "metadata": {
        "id": "VjRm8l-5gUGi",
        "colab_type": "code",
        "outputId": "ca82c849-c04f-42da-c386-65f59de8aece",
        "colab": {
          "base_uri": "https://localhost:8080/",
          "height": 191
        }
      },
      "source": [
        "import calendar\n",
        "year = int(input(\"Enter thre Year \"))\n",
        "month = int(input(\"Enter the Month \"))\n",
        "print(calendar.month(year,month))\n"
      ],
      "execution_count": 0,
      "outputs": [
        {
          "output_type": "stream",
          "text": [
            "Enter thre Year 2019\n",
            "Enter the Month 11\n",
            "   November 2019\n",
            "Mo Tu We Th Fr Sa Su\n",
            "             1  2  3\n",
            " 4  5  6  7  8  9 10\n",
            "11 12 13 14 15 16 17\n",
            "18 19 20 21 22 23 24\n",
            "25 26 27 28 29 30\n",
            "\n"
          ],
          "name": "stdout"
        }
      ]
    },
    {
      "cell_type": "code",
      "metadata": {
        "id": "pnaKSmYopN_Y",
        "colab_type": "code",
        "colab": {
          "base_uri": "https://localhost:8080/",
          "height": 121
        },
        "outputId": "7d13f012-1744-43b3-d4f4-1a604bd9c581"
      },
      "source": [
        "print(\"\"\"\n",
        "a string that you \"don't\" have to escape\n",
        "This\n",
        "is a  ....... multi-line\n",
        "heredoc string --------> example\n",
        "\"\"\")\n",
        "# \"\"\" triple \" use for multi-lines   \"\"\""
      ],
      "execution_count": 1,
      "outputs": [
        {
          "output_type": "stream",
          "text": [
            "\n",
            "a string that you \"don't\" have to escape\n",
            "This\n",
            "is a  ....... multi-line\n",
            "heredoc string --------> example\n",
            "\n"
          ],
          "name": "stdout"
        }
      ]
    },
    {
      "cell_type": "code",
      "metadata": {
        "id": "B0jaNov6rDRL",
        "colab_type": "code",
        "colab": {
          "base_uri": "https://localhost:8080/",
          "height": 35
        },
        "outputId": "5dc021f2-8453-4e32-c615-3635e413a60e"
      },
      "source": [
        "from datetime import date\n",
        "d0 = date(2014, 7, 2)\n",
        "d1 = date(2014, 7, 11)\n",
        "print(d1-d0)"
      ],
      "execution_count": 5,
      "outputs": [
        {
          "output_type": "stream",
          "text": [
            "9 days, 0:00:00\n"
          ],
          "name": "stdout"
        }
      ]
    },
    {
      "cell_type": "code",
      "metadata": {
        "id": "NBqInCIurxTV",
        "colab_type": "code",
        "colab": {
          "base_uri": "https://localhost:8080/",
          "height": 52
        },
        "outputId": "6d80cdaf-7192-4918-a002-095497a24b9c"
      },
      "source": [
        "from math import pi\n",
        "r = float(input(\"Please enter the radius of sphere\"))\n",
        "print(4*pi*r**3/3)"
      ],
      "execution_count": 6,
      "outputs": [
        {
          "output_type": "stream",
          "text": [
            "Please enter the radius of sphere7\n",
            "1436.755040241732\n"
          ],
          "name": "stdout"
        }
      ]
    },
    {
      "cell_type": "code",
      "metadata": {
        "id": "NrMFLIPms-GE",
        "colab_type": "code",
        "colab": {
          "base_uri": "https://localhost:8080/",
          "height": 52
        },
        "outputId": "b12905c7-a3b3-4e99-ddc9-ccadde41372c"
      },
      "source": [
        "n = int(input(\"Enter a number : \"))\n",
        "p = abs(17-n)**2 if n >17 else (17-n)\n",
        "print(p)"
      ],
      "execution_count": 13,
      "outputs": [
        {
          "output_type": "stream",
          "text": [
            "Enter a number : 14\n",
            "3\n"
          ],
          "name": "stdout"
        }
      ]
    },
    {
      "cell_type": "code",
      "metadata": {
        "id": "PFhu0HxjtzZ6",
        "colab_type": "code",
        "colab": {
          "base_uri": "https://localhost:8080/",
          "height": 87
        },
        "outputId": "85386390-ae38-4145-ab61-147fbfbcc17b"
      },
      "source": [
        "a = int(input(\"Please Enter your 1st NUmber\"))\n",
        "b = int(input(\"Please Enter your 2nd NUmber\"))\n",
        "c = int(input(\"Please Enter your 3rd NUmber\"))\n",
        "if a==b==c:\n",
        "  print(a*3)\n",
        "else :\n",
        "  print(a+b+c)  "
      ],
      "execution_count": 15,
      "outputs": [
        {
          "output_type": "stream",
          "text": [
            "Please Enter your 1st NUmber13\n",
            "Please Enter your 2nd NUmber13\n",
            "Please Enter your 3rd NUmber13\n",
            "39\n"
          ],
          "name": "stdout"
        }
      ]
    },
    {
      "cell_type": "code",
      "metadata": {
        "id": "PlxpNCREwq-b",
        "colab_type": "code",
        "colab": {
          "base_uri": "https://localhost:8080/",
          "height": 52
        },
        "outputId": "991177aa-8d85-4782-b48c-7b8861c8bc40"
      },
      "source": [
        "input_string = input(\"Please enter your string\")\n",
        "input_list = input_string.split()\n",
        "try:\n",
        "  print(' '.join(input_list[input_list.index(\"is\"):]))\n",
        "except ValueError:\n",
        "  print(\"Is is not in the sentance\")\n",
        "   \n"
      ],
      "execution_count": 31,
      "outputs": [
        {
          "output_type": "stream",
          "text": [
            "Please enter your stringdfgvds anjhaosi huagscouahvs\n",
            "Is is not in the sentance\n"
          ],
          "name": "stdout"
        }
      ]
    },
    {
      "cell_type": "code",
      "metadata": {
        "id": "KvMiqlCuzbve",
        "colab_type": "code",
        "colab": {
          "base_uri": "https://localhost:8080/",
          "height": 35
        },
        "outputId": "99e13bb6-1504-41bb-db04-fa4e4da5ada2"
      },
      "source": [
        "def strTo3Time(string,n):\n",
        "  if n>0:\n",
        "    return string*n\n",
        "  else:\n",
        "    return \"Enter Non negitive number\"  \n",
        "\n",
        "print(strTo3Time(\"abc\",3))"
      ],
      "execution_count": 36,
      "outputs": [
        {
          "output_type": "stream",
          "text": [
            "abcabcabc\n"
          ],
          "name": "stdout"
        }
      ]
    },
    {
      "cell_type": "code",
      "metadata": {
        "id": "2JmIneIS1H0c",
        "colab_type": "code",
        "colab": {
          "base_uri": "https://localhost:8080/",
          "height": 52
        },
        "outputId": "70ceb59a-8fef-4795-ff0b-1d8e308b584c"
      },
      "source": [
        "number = int(input(\"Please Enter the number \"))\n",
        "if number % 2 == 0:\n",
        "  print(\"Even Number\")\n",
        "else:\n",
        "  print(\"Odd Number\")  \n"
      ],
      "execution_count": 39,
      "outputs": [
        {
          "output_type": "stream",
          "text": [
            "Please Enter the number 0\n",
            "Even Number\n"
          ],
          "name": "stdout"
        }
      ]
    },
    {
      "cell_type": "markdown",
      "metadata": {
        "id": "t37I1tfR3L47",
        "colab_type": "text"
      },
      "source": [
        "Start With 26"
      ]
    }
  ]
}